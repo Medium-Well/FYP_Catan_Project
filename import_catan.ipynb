{
 "cells": [
  {
   "cell_type": "markdown",
   "id": "67959aaa-9e64-4158-9e61-09e5d4bca00d",
   "metadata": {
    "tags": []
   },
   "source": [
    "## Catanatron Library Import & Setup\n",
    "Command lines that import the Catanatron Library into the current folder directory.\n",
    "The folder will automatically be imported as 'catanatron'.\n",
    "\n",
    "Link to Github for Documentation: https://github.com/bcollazo/catanatron"
   ]
  },
  {
   "cell_type": "code",
   "execution_count": null,
   "id": "8f734147-97e9-4ff7-aaf3-e9abc46372b5",
   "metadata": {
    "tags": []
   },
   "outputs": [],
   "source": [
    "# Install Git for fresh environments\n",
    "!conda install git"
   ]
  },
  {
   "cell_type": "code",
   "execution_count": null,
   "id": "e6497636-a1f6-4580-a2f3-2ec74a304a7c",
   "metadata": {
    "tags": []
   },
   "outputs": [],
   "source": [
    "# Clone github repository, if unable to clone here then run in command line\n",
    "!git clone git@github.com:bcollazo/catanatron.git"
   ]
  },
  {
   "cell_type": "code",
   "execution_count": null,
   "id": "5be5dc38-89d0-4876-91bf-1a640f955aee",
   "metadata": {
    "tags": []
   },
   "outputs": [],
   "source": [
    "# Enter the new catanatron folder\n",
    "%cd catanatron"
   ]
  },
  {
   "cell_type": "code",
   "execution_count": null,
   "id": "442f28c3-1345-406d-bc54-096d93063c25",
   "metadata": {
    "tags": []
   },
   "outputs": [],
   "source": [
    "# Installs the required packages via requirements.txt provided in the library's root\n",
    "!pip install -r all-requirements.txt"
   ]
  }
 ],
 "metadata": {
  "kernelspec": {
   "display_name": "Python 3 (ipykernel)",
   "language": "python",
   "name": "python3"
  },
  "language_info": {
   "codemirror_mode": {
    "name": "ipython",
    "version": 3
   },
   "file_extension": ".py",
   "mimetype": "text/x-python",
   "name": "python",
   "nbconvert_exporter": "python",
   "pygments_lexer": "ipython3",
   "version": "3.11.5"
  }
 },
 "nbformat": 4,
 "nbformat_minor": 5
}
